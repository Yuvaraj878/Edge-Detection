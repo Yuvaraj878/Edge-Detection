{
 "cells": [
  {
   "cell_type": "code",
   "execution_count": null,
   "metadata": {},
   "outputs": [],
   "source": [
    "import cv2\n",
    "import matplotlib.pyplot as plt\n",
    "image = cv2.imread('car.jpg')\n",
    "gray_image = cv2.cvtColor(image,cv2.COLOR_RGB2GRAY)\n",
    "cv2.imshow('Gray image',gray_image)\n",
    "cv2.waitKey(0)\n",
    "cv2.destroyAllWindows()\n",
    "img = cv2.GaussianBlur(gray_image,(3,3),0)\n"
   ]
  },
  {
   "cell_type": "code",
   "execution_count": null,
   "metadata": {},
   "outputs": [],
   "source": [
    "sobelx = cv2.Sobel(img,cv2.CV_64F,1,0,ksize=5)\n",
    "plt.figure(1)\n",
    "plt.imshow(sobelx,cmap ='gray')\n",
    "plt.title('Sobelx image')\n",
    "plt.xticks([])\n",
    "plt.yticks([])\n",
    "plt.show()\n",
    "sobely = cv2.Sobel(img,cv2.CV_64F,0,1,ksize=5)\n",
    "plt.figure(1)\n",
    "plt.imshow(sobely,cmap ='gray')\n",
    "plt.title('Sobely image')\n",
    "plt.xticks([])\n",
    "plt.yticks([])\n",
    "plt.show()\n",
    "sobelxy = cv2.Sobel(img,cv2.CV_64F,1,1,ksize=5)\n",
    "plt.figure(1)\n",
    "plt.imshow(sobelxy,cmap ='gray')\n",
    "plt.title('Sobelxy image')\n",
    "plt.xticks([])\n",
    "plt.yticks([])\n",
    "plt.show()"
   ]
  },
  {
   "cell_type": "code",
   "execution_count": null,
   "metadata": {},
   "outputs": [],
   "source": [
    "laplacian = cv2.Laplacian(img,cv2.CV_64F)\n",
    "plt.figure(1)\n",
    "plt.imshow(laplacian,cmap ='gray')\n",
    "plt.title('Laplacian image')\n",
    "plt.xticks([])\n",
    "plt.yticks([])\n",
    "plt.show()"
   ]
  },
  {
   "cell_type": "code",
   "execution_count": null,
   "metadata": {},
   "outputs": [],
   "source": [
    "canny_edges = cv2.Canny(img,120,150)\n",
    "plt.figure(1)\n",
    "plt.imshow(canny_edges,cmap ='gray')\n",
    "plt.title('Canny_edges')\n",
    "plt.xticks([])\n",
    "plt.yticks([])\n",
    "plt.show()"
   ]
  }
 ],
 "metadata": {
  "kernelspec": {
   "display_name": "Python 3",
   "language": "python",
   "name": "python3"
  },
  "language_info": {
   "codemirror_mode": {
    "name": "ipython",
    "version": 3
   },
   "file_extension": ".py",
   "mimetype": "text/x-python",
   "name": "python",
   "nbconvert_exporter": "python",
   "pygments_lexer": "ipython3",
   "version": "3.9.9"
  },
  "orig_nbformat": 4
 },
 "nbformat": 4,
 "nbformat_minor": 2
}
